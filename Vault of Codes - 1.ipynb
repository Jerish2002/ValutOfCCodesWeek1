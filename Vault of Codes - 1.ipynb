{
 "cells": [
  {
   "cell_type": "markdown",
   "id": "4c776feb",
   "metadata": {},
   "source": [
    "# Internship - Day 1 \n",
    "## Codes after Debugging"
   ]
  },
  {
   "cell_type": "markdown",
   "id": "4923b1d2",
   "metadata": {},
   "source": [
    "\n",
    "### Code 1:\n",
    "Objective : To identify and Fix errors in the Python Program that manipulates Strings"
   ]
  },
  {
   "cell_type": "code",
   "execution_count": 1,
   "id": "d35b9878",
   "metadata": {},
   "outputs": [
    {
     "name": "stdout",
     "output_type": "stream",
     "text": [
      "Reversed String : !dlroW ,olleH\n"
     ]
    }
   ],
   "source": [
    "def reverse_string(s):\n",
    "    reversed=\"\"\n",
    "    for i in range(len(s)-1,-1,-1):\n",
    "        reversed+=s[i]\n",
    "    return reversed\n",
    "\n",
    "def main():\n",
    "    input_string=\"Hello, World!\"\n",
    "    reversed_string=reverse_string(input_string)\n",
    "    print(f\"Reversed String : {reversed_string}\")\n",
    "    \n",
    "if __name__==\"__main__\":\n",
    "    main()"
   ]
  },
  {
   "cell_type": "markdown",
   "id": "0af11340",
   "metadata": {},
   "source": [
    "#### Explanation:"
   ]
  },
  {
   "cell_type": "markdown",
   "id": "79a5b530",
   "metadata": {},
   "source": [
    "The provided code defines a Python program that reverses a given String. It consists of two main parts:\n",
    "\n",
    "#### 1 : reverse_string function:\n",
    "This function takes a string as input and initializes an empty string called reversed. Then, it uses a loop to iterate over the characters in string s in reverse order and appends them to reversed. Finally, it returns the reversed string.\n",
    "\n",
    "#### 2 : main function:\n",
    "This function serves as the entry point of the program. It sets input_string to \"Hello, World!\". Then, it calls the reverse_string function with input_string as an argument, sorting the result in reversed_string. Finally, it prints out the reversed string.\n",
    "\n",
    "This script also includes an if-condition to ensure that main() is executed only when the script is run directly (not when it's imported as module).\n",
    "\n",
    "##### This code doesn't contain any errors and should work as intended. When executed, it will take the string \"Hello, World!\" and print its reverse which is \"!dlroW ,olleH\""
   ]
  },
  {
   "cell_type": "code",
   "execution_count": null,
   "id": "4cd41254",
   "metadata": {},
   "outputs": [],
   "source": []
  },
  {
   "cell_type": "markdown",
   "id": "d63efb14",
   "metadata": {},
   "source": [
    "### Code 2:\n",
    "Objective : To identify and fix errors in a Python program that validates user input."
   ]
  },
  {
   "cell_type": "code",
   "execution_count": 4,
   "id": "c770d5fc",
   "metadata": {
    "scrolled": true
   },
   "outputs": [
    {
     "name": "stdout",
     "output_type": "stream",
     "text": [
      "Please Enter your Age : jerish\n",
      "Invalid input. You must be atleast 18 years old.\n"
     ]
    }
   ],
   "source": [
    "def get_age():\n",
    "    age=input(\"Please Enter your Age : \")\n",
    "    if age.isnumeric() and int(age)>=18: #Converted input data age which is a string to int data for comparison with 18.\n",
    "        return int(age)\n",
    "    else:\n",
    "        return None\n",
    "\n",
    "def main():\n",
    "    age=get_age()\n",
    "    if age:\n",
    "        print(f\"You are {age} years old and Eligible.\")\n",
    "    else:\n",
    "        print(\"Invalid input. You must be atleast 18 years old.\")\n",
    "        \n",
    "if __name__==\"__main__\":\n",
    "    main()"
   ]
  },
  {
   "cell_type": "markdown",
   "id": "ec507e25",
   "metadata": {},
   "source": [
    "#### Explanation:"
   ]
  },
  {
   "cell_type": "markdown",
   "id": "209a11bf",
   "metadata": {},
   "source": [
    "The provided code prompts the user for their age, checks if the input is a numeric value and greater than or equal to 18, and then prints a message indicating the user's age and eligibility, or an error message if the input is not valid. It consists of two main parts:\n",
    "\n",
    "#### get_age function:\n",
    "This function prompts the user to enter their age. Then, it checks if the input is a numeric value and if it's greater than or equal to 18. If the conditions are met, it converts the input to an integer and returns it. Else if the input is not valid, it returns None.\n",
    "\n",
    "#### main function:\n",
    "This function is the entry point of the program. It calls the get_age() function to obtain the user's age. If a valid age is returned (i.e., not None), it prints a message indicating the user's age and eligibility. eIf the age is not valid, it prints an error message.\n",
    "\n",
    "##### This script also includes an if-condition to ensure that main() is executed only when the script is run directly (not when it's imported as module).Overall, this code provides a simple interaction for obtaining and validating the user's age, with appropriate feedback messages.\n",
    "\n",
    "### Debugging Explanation\n",
    "Error Type: The error in this code is a TypeError.\n",
    "\n",
    "Error Line: **if age.isnumeric() and age >= 18:**\n",
    "\n",
    "How to Fix:  To resolve this, you should convert age to an integer before making the comparison. Modify the line to:\n",
    "**if age.isnumeric() and int(age) >= 18:**"
   ]
  },
  {
   "cell_type": "code",
   "execution_count": null,
   "id": "bf8bcef5",
   "metadata": {},
   "outputs": [],
   "source": []
  },
  {
   "cell_type": "markdown",
   "id": "5e17cf13",
   "metadata": {},
   "source": [
    "### Code 3:\n",
    "Objective : To identify and errors in a Python program that reads and writes to a File."
   ]
  },
  {
   "cell_type": "code",
   "execution_count": 6,
   "id": "39b27bf7",
   "metadata": {},
   "outputs": [
    {
     "name": "stdout",
     "output_type": "stream",
     "text": [
      "File sample.txt processed successsfully.\n"
     ]
    }
   ],
   "source": [
    "def read_and_write_file(filename):\n",
    "    try:\n",
    "        # Issue: Opening the file in 'r' mode then immediately in 'w' mode will truncate the file.\n",
    "        # Solution: Read the content first, close the file and then open it in 'w' mode to write the modified content.\n",
    "        with open(filename,'r') as file:\n",
    "            content=file.read()\n",
    "        # Close the file after reading its content.\n",
    "        with open(filename,'w') as file:\n",
    "            # Issue: Writing content to the file in uppercase without a newline can result in a single long line.\n",
    "            # Solution: Write the content in uppercase with a newline character to maintain formatting.\n",
    "            file.write(content.upper()+'\\n')\n",
    "        print(f\"File {filename} processed successsfully.\")\n",
    "    except Exception as e:\n",
    "        print(f\"An error occurred : {str(e)}\")\n",
    "        \n",
    "def main():\n",
    "    filename=\"sample.txt\"\n",
    "    read_and_write_file(filename)\n",
    "    \n",
    "if __name__==\"__main__\":\n",
    "    main()"
   ]
  },
  {
   "cell_type": "markdown",
   "id": "60cb3d21",
   "metadata": {},
   "source": [
    "#### Explanation:"
   ]
  },
  {
   "cell_type": "markdown",
   "id": "07ea3b23",
   "metadata": {},
   "source": [
    "THis Python code reads the content of a file named \"sample.txt\", converts it to uppercase and then overwrites the file with the uppercase content, printing a success message if the operation were successful or an error message if an exception occurs.\n",
    "\n",
    "#### read_and_write_file(filename) function:\n",
    "This function takes a filename as an argument. It attempts to open the file in read mode and reads its content. then, it opens the same file in write mode, effectively truncating its content. It writes the content in uppercase to the file, overwriting its previous content. Finally, it prints the success message indicating that the file has been processed successfully.\n",
    "If any errors occur during this process, it catches the exception and prints an error message.\n",
    "\n",
    "#### main() function:\n",
    "This function serves as the entry point of the program. It sets the filename variable to \"sample.txt\", which is the file the code will operate on. It then calls the ***read_and_write_file(filename)*** function.\n",
    "\n",
    "##### This script also includes an if-condition to ensure that main() is executed only when the script is run directly (not when it's imported as module).Overall, this code provides a simple interaction for obtaining and validating the user's age, with appropriate feedback messages.\n",
    "\n",
    "***We need to ensure that that we have the file named \"sample.txt\" in the same directory as this script for it to work correctly.***"
   ]
  },
  {
   "cell_type": "code",
   "execution_count": null,
   "id": "46767b1e",
   "metadata": {},
   "outputs": [],
   "source": []
  },
  {
   "cell_type": "markdown",
   "id": "40066088",
   "metadata": {},
   "source": [
    "### Code 4:\n",
    "Objective : The code aims to implement the merge sort algorithm. However, there is a bug in the code. When the student runs this code, it will raise an error or produce incorrect output. The student's task is to identify and correct the bug.\n",
    "*HINT* : Pay close attention to the recursive calls and the merging step."
   ]
  },
  {
   "cell_type": "code",
   "execution_count": 7,
   "id": "779dd187",
   "metadata": {},
   "outputs": [
    {
     "name": "stdout",
     "output_type": "stream",
     "text": [
      "The sorted Array is : [3, 9, 10, 27, 38, 43, 82]\n"
     ]
    }
   ],
   "source": [
    "def merge_sort(arr):\n",
    "    if len(arr)<=1:\n",
    "        return arr\n",
    "    \n",
    "    mid=len(arr)//2\n",
    "    left=arr[:mid]\n",
    "    right=arr[mid:]\n",
    "    \n",
    "    # Correct the recursive calls by assigning the results back to left and right\n",
    "    \n",
    "    left=merge_sort(left) # Capture the sorted left subarray\n",
    "    \n",
    "    right=merge_sort(right) # Capture the sorted right subarray\n",
    "    \n",
    "    i=j=k=0\n",
    "    \n",
    "    while i<len(left) and j<len(right):\n",
    "        if left[i]<right[j]:\n",
    "            arr[k]=left[i]\n",
    "            i+=1\n",
    "        else:\n",
    "            arr[k]=right[j]\n",
    "            j+=1\n",
    "        k+=1\n",
    "        \n",
    "    while i<len(left):\n",
    "        arr[k]=left[i]\n",
    "        i+=1\n",
    "        k+=1\n",
    "        \n",
    "    while j<len(right):\n",
    "        arr[k]=right[j]\n",
    "        j+=1\n",
    "        k+=1\n",
    "        \n",
    "    return arr # return the sorted array\n",
    "        \n",
    "arr=[38,27,43,3,9,82,10]\n",
    "sorted_arr=merge_sort(arr)\n",
    "print(f\"The sorted Array is : {sorted_arr}\")"
   ]
  },
  {
   "cell_type": "markdown",
   "id": "39314e40",
   "metadata": {},
   "source": [
    "#### Explanation:"
   ]
  },
  {
   "cell_type": "markdown",
   "id": "b90de82d",
   "metadata": {},
   "source": [
    "#### This code implements the Merge Sort algorithm, which is a Divide and Conquer sorting algorithm.\n",
    "\n",
    "merge_sort(arr): This function recursively divides the array arr into smaller subarrays until each subarray contains one or zero elements. Then, it merges and sorts these subarrays back together.\n",
    "\n",
    "merge_sort(): If arr has one or zero elements, it is already considered sorted and is returned as is. Otherwise, it divides arr into two halves: left and right. It then recursively calls merge_sort() on both left and right.\n",
    "\n",
    "After the recursive calls, the function merges the sorted subarrays left and right back into the original array arr.\n",
    "The main() function:\n",
    "Creates an example array arr.\n",
    "Calls merge_sort() to sort the array.\n",
    "Prints the sorted array.\n",
    "\n",
    "The code provided sorts the example array [38, 27, 43, 3, 9, 82, 10] and prints the sorted result.\n",
    "\n",
    "This algorithm is efficient for sorting large data sets, especially in situations where the data is stored on slow-access media (like a disk)."
   ]
  },
  {
   "cell_type": "code",
   "execution_count": null,
   "id": "1679fa95",
   "metadata": {},
   "outputs": [],
   "source": []
  },
  {
   "cell_type": "code",
   "execution_count": null,
   "id": "393e0ff9",
   "metadata": {},
   "outputs": [],
   "source": [
    "Thank You"
   ]
  }
 ],
 "metadata": {
  "kernelspec": {
   "display_name": "Python 3 (ipykernel)",
   "language": "python",
   "name": "python3"
  },
  "language_info": {
   "codemirror_mode": {
    "name": "ipython",
    "version": 3
   },
   "file_extension": ".py",
   "mimetype": "text/x-python",
   "name": "python",
   "nbconvert_exporter": "python",
   "pygments_lexer": "ipython3",
   "version": "3.11.5"
  }
 },
 "nbformat": 4,
 "nbformat_minor": 5
}
